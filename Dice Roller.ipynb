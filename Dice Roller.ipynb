{
 "cells": [
  {
   "cell_type": "code",
   "execution_count": null,
   "id": "bfb955dc",
   "metadata": {},
   "outputs": [],
   "source": [
    "import random\n",
    "from tkinter import *\n",
    "from tkinter import messagebox\n",
    "window = Tk()\n",
    "playing = True\n",
    "\n",
    "playing = messagebox.askyesno('Dice Roller','Would you like to roll the dice?')\n",
    "\n",
    "while playing == True:\n",
    "    die1 = random.randint(1,6)\n",
    "    die2 = random.randint(1,6)\n",
    "    playing = messagebox.askyesno('Dice Roller','You rolled an ' + str(die1) + ' and a ' + str(die2) + '. Would you like to roll again?')\n",
    "\n",
    "window.deiconify()\n",
    "window.destroy()\n",
    "window.quit()"
   ]
  }
 ],
 "metadata": {
  "kernelspec": {
   "display_name": "Python 3 (ipykernel)",
   "language": "python",
   "name": "python3"
  },
  "language_info": {
   "codemirror_mode": {
    "name": "ipython",
    "version": 3
   },
   "file_extension": ".py",
   "mimetype": "text/x-python",
   "name": "python",
   "nbconvert_exporter": "python",
   "pygments_lexer": "ipython3",
   "version": "3.9.12"
  }
 },
 "nbformat": 4,
 "nbformat_minor": 5
}
